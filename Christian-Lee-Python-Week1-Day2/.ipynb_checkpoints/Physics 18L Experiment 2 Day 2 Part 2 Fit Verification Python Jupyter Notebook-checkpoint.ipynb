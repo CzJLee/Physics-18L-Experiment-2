{
 "cells": [
  {
   "cell_type": "markdown",
   "metadata": {},
   "source": [
    "# Physics 18L - Experiment 2 - Day 2\n",
    "### Christian Lee <br/>\n",
    "  \n",
    "##### Professor: N. Whitehorn\n",
    "##### TA: Teresa Le\n",
    "##### Lab Date: Wednesday Oct 10, 2019\n",
    "##### UCLA Physics Department <br/>\n",
    "\n",
    "\n",
    "Required libraries: numpy, matplotlib, scipy, math\n",
    "\n",
    "This notbook file includes the last part of day 2. Find a way to validate your fitting procedure. \n",
    "\n",
    "I believe my fiting procedure is correct because it matches the values I calculated during Lab Report 1.\n",
    "\n",
    "However, since this is (suposedly) not good enough, I will generate my own linear data set with noise, then attempt to fit that. \n",
    "\n",
    "For some reason, code producing plots must be run twice in jupyter notebook. \n",
    "Run this code cell twice. "
   ]
  },
  {
   "cell_type": "code",
   "execution_count": 3,
   "metadata": {},
   "outputs": [
    {
     "data": {
      "image/png": "[encoded data removed]",
      "text/plain": [
       "<Figure size 432x288 with 1 Axes>"
      ]
     },
     "metadata": {
      "needs_background": "light"
     },
     "output_type": "display_data"
    },
    {
     "name": "stdout",
     "output_type": "stream",
     "text": [
      "Curve fit was able to calculate a best fit m = ( 4.987 ± 0.011 ), b = ( 11.037 ± 6.259 )\n",
      "Curve Fit was NOT able to determine the true slope within fit uncertainty.\n",
      "Curve Fit was able to determine the true y-intercept within fit uncertainty.\n"
     ]
    }
   ],
   "source": [
    "from numpy.random import normal\n",
    "from matplotlib import pyplot\n",
    "from scipy.optimize import curve_fit\n",
    "from math import sqrt\n",
    "\n",
    "#Define a linear function\n",
    "def linear_fxn(x, m, b):\n",
    "\treturn m*x + b\n",
    "\n",
    "#Define true values\n",
    "m_true = 5\n",
    "b_true = 5\n",
    "\n",
    "#Pick sample domain\n",
    "domain = range(0,1000)\n",
    "\n",
    "#Generate sample data\n",
    "y_scat = [linear_fxn(i, m_true, b_true)-normal(0,100) for i in domain]\n",
    "x_scat = domain\n",
    "\n",
    "#Use Curve Fit to find a best fit and uncertainty for the slope and y-intercept\n",
    "popt, pcov = curve_fit(linear_fxn, x_scat, y_scat)\n",
    "m_fit = popt[0]\n",
    "b_fit = popt[1]\n",
    "m_error = sqrt(pcov[0,0])\n",
    "b_error = sqrt(pcov[1,1])\n",
    "\n",
    "#plot the scatter data and best fit line\n",
    "x = list(domain)\n",
    "y = [linear_fxn(i,m_fit,b_fit) for i in x]\n",
    "\n",
    "pyplot.scatter(x_scat, y_scat, color = \"blue\")\n",
    "pyplot.plot(x, y, color=\"red\", label = \"Best linear fit\")\n",
    "pyplot.show()\n",
    "\n",
    "print(\"Curve fit was able to calculate a best fit m = ( {} ± {} ), b = ( {} ± {} )\".format(round(m_fit,3),round(m_error,3),round(b_fit,3),round(b_error,3)))\n",
    "\n",
    "if m_fit + m_error >= m_true and m_fit - m_error <= m_true:\n",
    "\tprint(\"Curve Fit was able to determine the true slope within fit uncertainty.\")\n",
    "else:\n",
    "\tprint(\"Curve Fit was NOT able to determine the true slope within fit uncertainty.\")\n",
    "if b_fit + b_error >= b_true and b_fit - b_error <= b_true:\n",
    "\tprint(\"Curve Fit was able to determine the true y-intercept within fit uncertainty.\")\n",
    "else:\n",
    "\tprint(\"Curve Fit was NOT able to determine the true y-intercept within fit uncertainty.\")\n",
    "\n"
   ]
  },
  {
   "cell_type": "code",
   "execution_count": null,
   "metadata": {},
   "outputs": [],
   "source": []
  }
 ],
 "metadata": {
  "kernelspec": {
   "display_name": "Python 3",
   "language": "python",
   "name": "python3"
  },
  "language_info": {
   "codemirror_mode": {
    "name": "ipython",
    "version": 3
   },
   "file_extension": ".py",
   "mimetype": "text/x-python",
   "name": "python",
   "nbconvert_exporter": "python",
   "pygments_lexer": "ipython3",
   "version": "3.7.4"
  }
 },
 "nbformat": 4,
 "nbformat_minor": 2
}
